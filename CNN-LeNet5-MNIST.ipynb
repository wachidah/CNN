{
 "cells": [
  {
   "cell_type": "code",
   "execution_count": 65,
   "metadata": {
    "scrolled": true
   },
   "outputs": [],
   "source": [
    "import tensorflow as tf\n",
    "import keras\n",
    "\n",
    "from keras.utils import to_categorical\n",
    "import matplotlib.pyplot as plt\n",
    "from sklearn.model_selection import train_test_split\n",
    "\n",
    "import pandas as pd\n",
    "import numpy as np\n",
    "\n",
    "from keras.datasets import mnist\n",
    "from keras.layers import Conv2D\n",
    "from keras.layers import MaxPooling2D\n",
    "from keras.models import Sequential\n",
    "from keras.layers import Dense\n",
    "from keras.layers import Dropout, Flatten\n",
    "from keras import datasets\n",
    "\n",
    "%matplotlib inline"
   ]
  },
  {
   "cell_type": "code",
   "execution_count": 66,
   "metadata": {},
   "outputs": [],
   "source": [
    "(x_train, y_train),(x_test, y_test) = tf.keras.datasets.mnist.load_data()\n",
    "y_true = y_test"
   ]
  },
  {
   "cell_type": "code",
   "execution_count": 67,
   "metadata": {},
   "outputs": [
    {
     "name": "stdout",
     "output_type": "stream",
     "text": [
      "Train set shape (60000, 28, 28, 1) trainlabel shape (60000,)\n",
      "test set shape (10000, 28, 28, 1) test labels: (10000,)\n"
     ]
    }
   ],
   "source": [
    "img_rows,img_cols = 28,28\n",
    "x_train = x_train.reshape(x_train.shape[0], img_rows, img_cols, 1)\n",
    "x_test = x_test.reshape(x_test.shape[0], img_rows, img_cols, 1)\n",
    "\n",
    "print(\"Train set shape\", x_train.shape, 'trainlabel shape', y_train.shape)\n",
    "print('test set shape', x_test.shape, 'test labels:', y_test.shape)\n",
    "\n"
   ]
  },
  {
   "cell_type": "code",
   "execution_count": 68,
   "metadata": {},
   "outputs": [],
   "source": [
    "x_train = np.pad(x_train, ((0,0),(2,2),(2,2),(0,0)), 'constant')\n",
    "x_test = np.pad(x_test, ((0,0),(2,2),(2,2),(0,0)), 'constant')"
   ]
  },
  {
   "cell_type": "code",
   "execution_count": 69,
   "metadata": {},
   "outputs": [],
   "source": [
    "#Split the train set to validation set\n",
    "x_train, x_val, y_train, y_val = train_test_split(x_train, y_train, test_size=0.2)"
   ]
  },
  {
   "cell_type": "code",
   "execution_count": 70,
   "metadata": {},
   "outputs": [],
   "source": [
    "# Data Normalization\n",
    "x_train = (x_train - x_train.mean()) / x_train.std()\n",
    "\n",
    "x_val = (x_val - x_val.mean()) / x_val.std()\n",
    "\n",
    "x_test = (x_test - x_test.mean()) / x_test.std()\n"
   ]
  },
  {
   "cell_type": "code",
   "execution_count": 71,
   "metadata": {},
   "outputs": [
    {
     "name": "stdout",
     "output_type": "stream",
     "text": [
      "X_train shape: (48000, 32, 32, 1) X_label shape: (48000, 10)\n",
      "test set shape: (10000, 32, 32, 1) test label shape (10000, 10)\n",
      "val set shape: (12000, 32, 32, 1) val_lavels shape: (12000, 10)\n"
     ]
    }
   ],
   "source": [
    "y_train = keras.utils.to_categorical(y_train)\n",
    "\n",
    "print('X_train shape:', x_train.shape, 'X_label shape:', y_train.shape)\n",
    "\n",
    "y_test = keras.utils.to_categorical(y_test)\n",
    "\n",
    "print('test set shape:', x_test.shape, 'test label shape', y_test.shape)\n",
    "\n",
    "y_val = keras.utils.to_categorical(y_val)\n",
    "\n",
    "print('val set shape:', x_val.shape, 'val_lavels shape:', y_val.shape)"
   ]
  },
  {
   "cell_type": "code",
   "execution_count": 72,
   "metadata": {},
   "outputs": [
    {
     "data": {
      "image/png": "[encoded data removed]",
      "text/plain": [
       "<Figure size 432x288 with 1 Axes>"
      ]
     },
     "metadata": {
      "needs_background": "light"
     },
     "output_type": "display_data"
    }
   ],
   "source": [
    "#Plot input data\n",
    "\n",
    "test_im = x_train[13]\n",
    "plt.imshow(test_im.reshape(32,32), cmap='gray', interpolation='none')\n",
    "plt.show()"
   ]
  },
  {
   "cell_type": "code",
   "execution_count": 73,
   "metadata": {},
   "outputs": [],
   "source": [
    "#Define model architecture\n",
    "\n",
    "model = Sequential()\n",
    "\n",
    "\n",
    "#Conv Layer 1\n",
    "model.add(Conv2D(filters = 6, \n",
    "                 kernel_size = 5, \n",
    "                 strides = 1, \n",
    "                 activation = 'relu', \n",
    "                 input_shape = (32,32,1)))\n",
    "\n",
    "#Pooling layer 1\n",
    "model.add(MaxPooling2D(pool_size = 2, strides = 2))\n",
    "\n",
    "\n",
    "#Conv Layer 2\n",
    "model.add(Conv2D(filters = 16, \n",
    "                 kernel_size = 5,\n",
    "                 strides = 1,\n",
    "                 activation = 'relu',\n",
    "                 input_shape = (14,14,6)))\n",
    "\n",
    "#Pooling Layer 2\n",
    "model.add(MaxPooling2D(pool_size = 2, strides = 2))\n",
    "#Flatten\n",
    "model.add(Flatten())\n",
    "#Layer 3\n",
    "#Fully connected layer 1\n",
    "model.add(Dense(units = 120, activation = 'relu'))\n",
    "\n",
    "#Layer 4\n",
    "#Fully connected layer 2\n",
    "model.add(Dense(units = 84, activation = 'relu'))\n",
    "\n",
    "#Layer 5\n",
    "#Output Layer\n",
    "model.add(Dense(units = 10, activation = 'softmax'))\n",
    "model.compile(optimizer = 'adam', loss = 'categorical_crossentropy', metrics = ['accuracy'])\n",
    "\n",
    "model.compile(loss=keras.losses.categorical_crossentropy,\n",
    "              optimizer=keras.optimizers.Adam(),\n",
    "              metrics=['accuracy'])\n",
    "\n"
   ]
  },
  {
   "cell_type": "code",
   "execution_count": 74,
   "metadata": {},
   "outputs": [
    {
     "name": "stdout",
     "output_type": "stream",
     "text": [
      "_________________________________________________________________\n",
      "Layer (type)                 Output Shape              Param #   \n",
      "=================================================================\n",
      "conv2d_9 (Conv2D)            (None, 28, 28, 6)         156       \n",
      "_________________________________________________________________\n",
      "max_pooling2d_9 (MaxPooling2 (None, 14, 14, 6)         0         \n",
      "_________________________________________________________________\n",
      "conv2d_10 (Conv2D)           (None, 10, 10, 16)        2416      \n",
      "_________________________________________________________________\n",
      "max_pooling2d_10 (MaxPooling (None, 5, 5, 16)          0         \n",
      "_________________________________________________________________\n",
      "flatten_5 (Flatten)          (None, 400)               0         \n",
      "_________________________________________________________________\n",
      "dense_13 (Dense)             (None, 120)               48120     \n",
      "_________________________________________________________________\n",
      "dense_14 (Dense)             (None, 84)                10164     \n",
      "_________________________________________________________________\n",
      "dense_15 (Dense)             (None, 10)                850       \n",
      "=================================================================\n",
      "Total params: 61,706\n",
      "Trainable params: 61,706\n",
      "Non-trainable params: 0\n",
      "_________________________________________________________________\n"
     ]
    }
   ],
   "source": [
    "model.summary()"
   ]
  },
  {
   "cell_type": "code",
   "execution_count": 75,
   "metadata": {},
   "outputs": [
    {
     "name": "stdout",
     "output_type": "stream",
     "text": [
      "Train on 48000 samples, validate on 12000 samples\n",
      "Epoch 1/20\n",
      "10/10 [==============================] - 19s 2s/step - loss: 1.8602 - acc: 0.4829 - val_loss: 1.2075 - val_acc: 0.6939\n",
      "Epoch 2/20\n",
      "10/10 [==============================] - 18s 2s/step - loss: 0.7676 - acc: 0.8012 - val_loss: 0.4523 - val_acc: 0.8645\n",
      "Epoch 3/20\n",
      "10/10 [==============================] - 19s 2s/step - loss: 0.3581 - acc: 0.8926 - val_loss: 0.2968 - val_acc: 0.9101\n",
      "Epoch 4/20\n",
      "10/10 [==============================] - 19s 2s/step - loss: 0.2507 - acc: 0.9243 - val_loss: 0.2217 - val_acc: 0.9330\n",
      "Epoch 5/20\n",
      "10/10 [==============================] - 19s 2s/step - loss: 0.1901 - acc: 0.9432 - val_loss: 0.1732 - val_acc: 0.9473\n",
      "Epoch 6/20\n",
      "10/10 [==============================] - 20s 2s/step - loss: 0.1492 - acc: 0.9557 - val_loss: 0.1436 - val_acc: 0.9562\n",
      "Epoch 7/20\n",
      "10/10 [==============================] - 20s 2s/step - loss: 0.1223 - acc: 0.9637 - val_loss: 0.1233 - val_acc: 0.9638\n",
      "Epoch 8/20\n",
      "10/10 [==============================] - 20s 2s/step - loss: 0.1027 - acc: 0.9695 - val_loss: 0.1083 - val_acc: 0.9682\n",
      "Epoch 9/20\n",
      "10/10 [==============================] - 19s 2s/step - loss: 0.0878 - acc: 0.9740 - val_loss: 0.0970 - val_acc: 0.9722\n",
      "Epoch 10/20\n",
      "10/10 [==============================] - 19s 2s/step - loss: 0.0764 - acc: 0.9768 - val_loss: 0.0889 - val_acc: 0.9744\n",
      "Epoch 11/20\n",
      "10/10 [==============================] - 19s 2s/step - loss: 0.0679 - acc: 0.9794 - val_loss: 0.0835 - val_acc: 0.9758\n",
      "Epoch 12/20\n",
      "10/10 [==============================] - 20s 2s/step - loss: 0.0608 - acc: 0.9819 - val_loss: 0.0792 - val_acc: 0.9770\n",
      "Epoch 13/20\n",
      "10/10 [==============================] - 20s 2s/step - loss: 0.0550 - acc: 0.9841 - val_loss: 0.0759 - val_acc: 0.9786\n",
      "Epoch 14/20\n",
      "10/10 [==============================] - 20s 2s/step - loss: 0.0502 - acc: 0.9856 - val_loss: 0.0731 - val_acc: 0.9793\n",
      "Epoch 15/20\n",
      "10/10 [==============================] - 20s 2s/step - loss: 0.0461 - acc: 0.9867 - val_loss: 0.0708 - val_acc: 0.9803\n",
      "Epoch 16/20\n",
      "10/10 [==============================] - 20s 2s/step - loss: 0.0423 - acc: 0.9878 - val_loss: 0.0687 - val_acc: 0.9808\n",
      "Epoch 17/20\n",
      "10/10 [==============================] - 20s 2s/step - loss: 0.0390 - acc: 0.9890 - val_loss: 0.0668 - val_acc: 0.9813\n",
      "Epoch 18/20\n",
      "10/10 [==============================] - 20s 2s/step - loss: 0.0360 - acc: 0.9897 - val_loss: 0.0651 - val_acc: 0.9818\n",
      "Epoch 19/20\n",
      "10/10 [==============================] - 20s 2s/step - loss: 0.0334 - acc: 0.9906 - val_loss: 0.0637 - val_acc: 0.9823\n",
      "Epoch 20/20\n",
      "10/10 [==============================] - 20s 2s/step - loss: 0.0311 - acc: 0.9913 - val_loss: 0.0623 - val_acc: 0.9827\n"
     ]
    }
   ],
   "source": [
    "hist = model.fit(x_train ,y_train, steps_per_epoch = 10, epochs = 20, validation_data=(x_val,y_val), validation_steps = 10)"
   ]
  },
  {
   "cell_type": "code",
   "execution_count": 76,
   "metadata": {},
   "outputs": [
    {
     "name": "stdout",
     "output_type": "stream",
     "text": [
      "10000/10000 [==============================] - 0s 48us/step\n",
      "Test loss: 0.04694561922934372\n",
      "Test accuracy: 0.9857\n"
     ]
    }
   ],
   "source": [
    "score = model.evaluate(x_test, y_test, verbose= 1)\n",
    "print('Test loss:', score[0])\n",
    "print('Test accuracy:', score[1])"
   ]
  },
  {
   "cell_type": "code",
   "execution_count": 77,
   "metadata": {},
   "outputs": [
    {
     "data": {
      "image/png": "[encoded data removed]",
      "text/plain": [
       "<Figure size 432x288 with 1 Axes>"
      ]
     },
     "metadata": {
      "needs_background": "light"
     },
     "output_type": "display_data"
    },
    {
     "data": {
      "image/png": "[encoded data removed]",
      "text/plain": [
       "<Figure size 432x288 with 1 Axes>"
      ]
     },
     "metadata": {
      "needs_background": "light"
     },
     "output_type": "display_data"
    }
   ],
   "source": [
    "accuracy = hist.history['acc']\n",
    "val_accuracy = hist.history['val_acc']\n",
    "epochs = range(len(accuracy))\n",
    "loss = hist.history['loss']\n",
    "val_loss = hist.history['val_loss']\n",
    "plt.plot(epochs, accuracy, 'bo', label='Training accuracy')\n",
    "plt.plot(epochs, val_accuracy, 'b', label='Validation accuracy')\n",
    "plt.title('Training and validation accuracy')\n",
    "plt.legend()\n",
    "plt.figure()\n",
    "plt.plot(epochs, loss, 'bo', label='Training loss')\n",
    "plt.plot(epochs, val_loss, 'b', label='Validation loss')\n",
    "plt.title('Training and validation loss')\n",
    "plt.legend()\n",
    "plt.show()"
   ]
  },
  {
   "cell_type": "code",
   "execution_count": 78,
   "metadata": {},
   "outputs": [],
   "source": [
    "#get the predictions for the test data\n",
    "predicted_classes = model.predict_classes(x_test)\n",
    "\n",
    "#get the indices to be plotted\n",
    "\n",
    "correct = np.nonzero(predicted_classes==y_true)[0]\n",
    "incorrect = np.nonzero(predicted_classes!=y_true)[0]"
   ]
  },
  {
   "cell_type": "code",
   "execution_count": 79,
   "metadata": {},
   "outputs": [
    {
     "name": "stdout",
     "output_type": "stream",
     "text": [
      "              precision    recall  f1-score   support\n",
      "\n",
      "     Class 0       0.98      0.99      0.99       980\n",
      "     Class 1       0.99      0.99      0.99      1135\n",
      "     Class 2       0.99      0.99      0.99      1032\n",
      "     Class 3       0.99      0.99      0.99      1010\n",
      "     Class 4       0.98      0.99      0.99       982\n",
      "     Class 5       0.98      0.99      0.99       892\n",
      "     Class 6       0.99      0.99      0.99       958\n",
      "     Class 7       0.98      0.98      0.98      1028\n",
      "     Class 8       0.98      0.98      0.98       974\n",
      "     Class 9       0.99      0.98      0.98      1009\n",
      "\n",
      "   micro avg       0.99      0.99      0.99     10000\n",
      "   macro avg       0.99      0.99      0.99     10000\n",
      "weighted avg       0.99      0.99      0.99     10000\n",
      "\n"
     ]
    }
   ],
   "source": [
    "num_classes = 10\n",
    "from sklearn.metrics import classification_report\n",
    "target_names = [\"Class {}\".format(i) for i in range(num_classes)]\n",
    "print(classification_report(y_true, predicted_classes, target_names=target_names))"
   ]
  },
  {
   "cell_type": "code",
   "execution_count": 80,
   "metadata": {},
   "outputs": [
    {
     "data": {
      "image/png": "[encoded data removed]",
      "text/plain": [
       "<Figure size 432x288 with 9 Axes>"
      ]
     },
     "metadata": {
      "needs_background": "light"
     },
     "output_type": "display_data"
    }
   ],
   "source": [
    "for i, c in enumerate(correct[:9]):\n",
    "    plt.subplot(3,3,i+1)\n",
    "    plt.imshow(x_test[c].reshape(32,32), cmap='gray', interpolation='none')\n",
    "    plt.title(\"Predicted {}, Class {}\".format(predicted_classes[c], y_true[c]))\n",
    "    plt.tight_layout()"
   ]
  },
  {
   "cell_type": "code",
   "execution_count": 81,
   "metadata": {},
   "outputs": [
    {
     "data": {
      "image/png": "[encoded data removed]",
      "text/plain": [
       "<Figure size 432x288 with 9 Axes>"
      ]
     },
     "metadata": {
      "needs_background": "light"
     },
     "output_type": "display_data"
    }
   ],
   "source": [
    "for i, inc in enumerate(incorrect[:9]):\n",
    "    plt.subplot(3,3,i+1)\n",
    "    plt.imshow(x_test[inc].reshape(32,32), cmap='gray', interpolation='none')\n",
    "    plt.title(\"Predicted {}, Class {}\".format(predicted_classes[inc], y_true[inc]))\n",
    "    plt.tight_layout()"
   ]
  },
  {
   "cell_type": "code",
   "execution_count": null,
   "metadata": {},
   "outputs": [],
   "source": []
  }
 ],
 "metadata": {
  "kernelspec": {
   "display_name": "Python 3",
   "language": "python",
   "name": "python3"
  },
  "language_info": {
   "codemirror_mode": {
    "name": "ipython",
    "version": 3
   },
   "file_extension": ".py",
   "mimetype": "text/x-python",
   "name": "python",
   "nbconvert_exporter": "python",
   "pygments_lexer": "ipython3",
   "version": "3.6.7"
  }
 },
 "nbformat": 4,
 "nbformat_minor": 2
}
