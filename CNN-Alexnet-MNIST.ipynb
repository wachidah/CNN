{
 "cells": [
  {
   "cell_type": "code",
   "execution_count": 1,
   "metadata": {
    "scrolled": true
   },
   "outputs": [
    {
     "name": "stderr",
     "output_type": "stream",
     "text": [
      "Using TensorFlow backend.\n"
     ]
    }
   ],
   "source": [
    "import tensorflow as tf\n",
    "import keras\n",
    "\n",
    "from keras.utils import to_categorical\n",
    "import matplotlib.pyplot as plt\n",
    "from sklearn.model_selection import train_test_split\n",
    "from keras.layers.normalization import BatchNormalization\n",
    "\n",
    "import pandas as pd\n",
    "import numpy as np\n",
    "\n",
    "from keras.datasets import mnist\n",
    "from keras.layers import Conv2D\n",
    "from keras.layers import MaxPooling2D\n",
    "from keras.models import Sequential\n",
    "from keras.layers import Dense\n",
    "from keras.layers import Dropout, Flatten\n",
    "from keras import datasets\n",
    "\n",
    "%matplotlib inline"
   ]
  },
  {
   "cell_type": "code",
   "execution_count": 2,
   "metadata": {},
   "outputs": [],
   "source": [
    "(x_train, y_train),(x_test, y_test) = tf.keras.datasets.mnist.load_data()\n",
    "y_true = y_test"
   ]
  },
  {
   "cell_type": "code",
   "execution_count": 3,
   "metadata": {},
   "outputs": [
    {
     "name": "stdout",
     "output_type": "stream",
     "text": [
      "Train set shape (60000, 28, 28, 1) trainlabel shape (60000,)\n",
      "test set shape (10000, 28, 28, 1) test labels: (10000,)\n"
     ]
    }
   ],
   "source": [
    "img_rows,img_cols = 28,28\n",
    "x_train = x_train.reshape(x_train.shape[0], img_rows, img_cols, 1)\n",
    "x_test = x_test.reshape(x_test.shape[0], img_rows, img_cols, 1)\n",
    "\n",
    "print(\"Train set shape\", x_train.shape, 'trainlabel shape', y_train.shape)\n",
    "print('test set shape', x_test.shape, 'test labels:', y_test.shape)\n",
    "\n"
   ]
  },
  {
   "cell_type": "code",
   "execution_count": 4,
   "metadata": {},
   "outputs": [],
   "source": [
    "x_train = np.pad(x_train, ((0,0),(2,2),(2,2),(0,0)), 'constant')\n",
    "x_test = np.pad(x_test, ((0,0),(2,2),(2,2),(0,0)), 'constant')"
   ]
  },
  {
   "cell_type": "code",
   "execution_count": 5,
   "metadata": {},
   "outputs": [
    {
     "name": "stdout",
     "output_type": "stream",
     "text": [
      "X_train shape: (48000, 32, 32, 1) X_label shape: (48000, 10)\n",
      "test set shape: (10000, 32, 32, 1) test label shape (10000, 10)\n",
      "val set shape: (12000, 32, 32, 1) val_lavels shape: (12000, 10)\n"
     ]
    }
   ],
   "source": [
    "x_train, x_val, y_train, y_val = train_test_split(x_train, y_train, test_size=0.2)\n",
    "x_train = (x_train - x_train.mean()) / x_train.std()\n",
    "\n",
    "x_val = (x_val - x_val.mean()) / x_val.std()\n",
    "\n",
    "x_test = (x_test - x_test.mean()) / x_test.std()\n",
    "\n",
    "\n",
    "y_train = keras.utils.to_categorical(y_train)\n",
    "\n",
    "print('X_train shape:', x_train.shape, 'X_label shape:', y_train.shape)\n",
    "\n",
    "y_test = keras.utils.to_categorical(y_test)\n",
    "\n",
    "print('test set shape:', x_test.shape, 'test label shape', y_test.shape)\n",
    "\n",
    "y_val = keras.utils.to_categorical(y_val)\n",
    "\n",
    "print('val set shape:', x_val.shape, 'val_lavels shape:', y_val.shape)"
   ]
  },
  {
   "cell_type": "code",
   "execution_count": 6,
   "metadata": {},
   "outputs": [
    {
     "data": {
      "image/png": "[encoded data removed]",
      "text/plain": [
       "<Figure size 432x288 with 1 Axes>"
      ]
     },
     "metadata": {
      "needs_background": "light"
     },
     "output_type": "display_data"
    }
   ],
   "source": [
    "test_im = x_train[13]\n",
    "plt.imshow(test_im.reshape(32,32), cmap='gray', interpolation='none')\n",
    "plt.show()"
   ]
  },
  {
   "cell_type": "code",
   "execution_count": 9,
   "metadata": {},
   "outputs": [
    {
     "ename": "AttributeError",
     "evalue": "'tuple' object has no attribute 'lower'",
     "output_type": "error",
     "traceback": [
      "\u001b[0;31m---------------------------------------------------------------------------\u001b[0m",
      "\u001b[0;31mAttributeError\u001b[0m                            Traceback (most recent call last)",
      "\u001b[0;32m<ipython-input-9-edbd0c4555e3>\u001b[0m in \u001b[0;36m<module>\u001b[0;34m\u001b[0m\n\u001b[1;32m     17\u001b[0m                  \u001b[0mstrides\u001b[0m \u001b[0;34m=\u001b[0m \u001b[0;34m(\u001b[0m\u001b[0;36m1\u001b[0m\u001b[0;34m,\u001b[0m\u001b[0;36m1\u001b[0m\u001b[0;34m)\u001b[0m\u001b[0;34m,\u001b[0m\u001b[0;34m\u001b[0m\u001b[0;34m\u001b[0m\u001b[0m\n\u001b[1;32m     18\u001b[0m                  \u001b[0mpadding\u001b[0m \u001b[0;34m=\u001b[0m \u001b[0;34m(\u001b[0m\u001b[0;36m2\u001b[0m\u001b[0;34m,\u001b[0m\u001b[0;36m2\u001b[0m\u001b[0;34m)\u001b[0m\u001b[0;34m,\u001b[0m\u001b[0;34m\u001b[0m\u001b[0;34m\u001b[0m\u001b[0m\n\u001b[0;32m---> 19\u001b[0;31m                  activation = 'relu'))\n\u001b[0m\u001b[1;32m     20\u001b[0m \u001b[0;34m\u001b[0m\u001b[0m\n\u001b[1;32m     21\u001b[0m \u001b[0;31m#Pooling Layer 2\u001b[0m\u001b[0;34m\u001b[0m\u001b[0;34m\u001b[0m\u001b[0;34m\u001b[0m\u001b[0m\n",
      "\u001b[0;32m~/anaconda3/envs/tensorflow/lib/python3.6/site-packages/keras/legacy/interfaces.py\u001b[0m in \u001b[0;36mwrapper\u001b[0;34m(*args, **kwargs)\u001b[0m\n\u001b[1;32m     89\u001b[0m                 warnings.warn('Update your `' + object_name + '` call to the ' +\n\u001b[1;32m     90\u001b[0m                               'Keras 2 API: ' + signature, stacklevel=2)\n\u001b[0;32m---> 91\u001b[0;31m             \u001b[0;32mreturn\u001b[0m \u001b[0mfunc\u001b[0m\u001b[0;34m(\u001b[0m\u001b[0;34m*\u001b[0m\u001b[0margs\u001b[0m\u001b[0;34m,\u001b[0m \u001b[0;34m**\u001b[0m\u001b[0mkwargs\u001b[0m\u001b[0;34m)\u001b[0m\u001b[0;34m\u001b[0m\u001b[0;34m\u001b[0m\u001b[0m\n\u001b[0m\u001b[1;32m     92\u001b[0m         \u001b[0mwrapper\u001b[0m\u001b[0;34m.\u001b[0m\u001b[0m_original_function\u001b[0m \u001b[0;34m=\u001b[0m \u001b[0mfunc\u001b[0m\u001b[0;34m\u001b[0m\u001b[0;34m\u001b[0m\u001b[0m\n\u001b[1;32m     93\u001b[0m         \u001b[0;32mreturn\u001b[0m \u001b[0mwrapper\u001b[0m\u001b[0;34m\u001b[0m\u001b[0;34m\u001b[0m\u001b[0m\n",
      "\u001b[0;32m~/anaconda3/envs/tensorflow/lib/python3.6/site-packages/keras/layers/convolutional.py\u001b[0m in \u001b[0;36m__init__\u001b[0;34m(self, filters, kernel_size, strides, padding, data_format, dilation_rate, activation, use_bias, kernel_initializer, bias_initializer, kernel_regularizer, bias_regularizer, activity_regularizer, kernel_constraint, bias_constraint, **kwargs)\u001b[0m\n\u001b[1;32m    488\u001b[0m             \u001b[0mkernel_constraint\u001b[0m\u001b[0;34m=\u001b[0m\u001b[0mkernel_constraint\u001b[0m\u001b[0;34m,\u001b[0m\u001b[0;34m\u001b[0m\u001b[0;34m\u001b[0m\u001b[0m\n\u001b[1;32m    489\u001b[0m             \u001b[0mbias_constraint\u001b[0m\u001b[0;34m=\u001b[0m\u001b[0mbias_constraint\u001b[0m\u001b[0;34m,\u001b[0m\u001b[0;34m\u001b[0m\u001b[0;34m\u001b[0m\u001b[0m\n\u001b[0;32m--> 490\u001b[0;31m             **kwargs)\n\u001b[0m\u001b[1;32m    491\u001b[0m \u001b[0;34m\u001b[0m\u001b[0m\n\u001b[1;32m    492\u001b[0m     \u001b[0;32mdef\u001b[0m \u001b[0mget_config\u001b[0m\u001b[0;34m(\u001b[0m\u001b[0mself\u001b[0m\u001b[0;34m)\u001b[0m\u001b[0;34m:\u001b[0m\u001b[0;34m\u001b[0m\u001b[0;34m\u001b[0m\u001b[0m\n",
      "\u001b[0;32m~/anaconda3/envs/tensorflow/lib/python3.6/site-packages/keras/layers/convolutional.py\u001b[0m in \u001b[0;36m__init__\u001b[0;34m(self, rank, filters, kernel_size, strides, padding, data_format, dilation_rate, activation, use_bias, kernel_initializer, bias_initializer, kernel_regularizer, bias_regularizer, activity_regularizer, kernel_constraint, bias_constraint, **kwargs)\u001b[0m\n\u001b[1;32m    109\u001b[0m                                                       'kernel_size')\n\u001b[1;32m    110\u001b[0m         \u001b[0mself\u001b[0m\u001b[0;34m.\u001b[0m\u001b[0mstrides\u001b[0m \u001b[0;34m=\u001b[0m \u001b[0mconv_utils\u001b[0m\u001b[0;34m.\u001b[0m\u001b[0mnormalize_tuple\u001b[0m\u001b[0;34m(\u001b[0m\u001b[0mstrides\u001b[0m\u001b[0;34m,\u001b[0m \u001b[0mrank\u001b[0m\u001b[0;34m,\u001b[0m \u001b[0;34m'strides'\u001b[0m\u001b[0;34m)\u001b[0m\u001b[0;34m\u001b[0m\u001b[0;34m\u001b[0m\u001b[0m\n\u001b[0;32m--> 111\u001b[0;31m         \u001b[0mself\u001b[0m\u001b[0;34m.\u001b[0m\u001b[0mpadding\u001b[0m \u001b[0;34m=\u001b[0m \u001b[0mconv_utils\u001b[0m\u001b[0;34m.\u001b[0m\u001b[0mnormalize_padding\u001b[0m\u001b[0;34m(\u001b[0m\u001b[0mpadding\u001b[0m\u001b[0;34m)\u001b[0m\u001b[0;34m\u001b[0m\u001b[0;34m\u001b[0m\u001b[0m\n\u001b[0m\u001b[1;32m    112\u001b[0m         \u001b[0mself\u001b[0m\u001b[0;34m.\u001b[0m\u001b[0mdata_format\u001b[0m \u001b[0;34m=\u001b[0m \u001b[0mK\u001b[0m\u001b[0;34m.\u001b[0m\u001b[0mnormalize_data_format\u001b[0m\u001b[0;34m(\u001b[0m\u001b[0mdata_format\u001b[0m\u001b[0;34m)\u001b[0m\u001b[0;34m\u001b[0m\u001b[0;34m\u001b[0m\u001b[0m\n\u001b[1;32m    113\u001b[0m         self.dilation_rate = conv_utils.normalize_tuple(dilation_rate, rank,\n",
      "\u001b[0;32m~/anaconda3/envs/tensorflow/lib/python3.6/site-packages/keras/utils/conv_utils.py\u001b[0m in \u001b[0;36mnormalize_padding\u001b[0;34m(value)\u001b[0m\n\u001b[1;32m     50\u001b[0m \u001b[0;34m\u001b[0m\u001b[0m\n\u001b[1;32m     51\u001b[0m \u001b[0;32mdef\u001b[0m \u001b[0mnormalize_padding\u001b[0m\u001b[0;34m(\u001b[0m\u001b[0mvalue\u001b[0m\u001b[0;34m)\u001b[0m\u001b[0;34m:\u001b[0m\u001b[0;34m\u001b[0m\u001b[0;34m\u001b[0m\u001b[0m\n\u001b[0;32m---> 52\u001b[0;31m     \u001b[0mpadding\u001b[0m \u001b[0;34m=\u001b[0m \u001b[0mvalue\u001b[0m\u001b[0;34m.\u001b[0m\u001b[0mlower\u001b[0m\u001b[0;34m(\u001b[0m\u001b[0;34m)\u001b[0m\u001b[0;34m\u001b[0m\u001b[0;34m\u001b[0m\u001b[0m\n\u001b[0m\u001b[1;32m     53\u001b[0m     \u001b[0mallowed\u001b[0m \u001b[0;34m=\u001b[0m \u001b[0;34m{\u001b[0m\u001b[0;34m'valid'\u001b[0m\u001b[0;34m,\u001b[0m \u001b[0;34m'same'\u001b[0m\u001b[0;34m,\u001b[0m \u001b[0;34m'causal'\u001b[0m\u001b[0;34m}\u001b[0m\u001b[0;34m\u001b[0m\u001b[0;34m\u001b[0m\u001b[0m\n\u001b[1;32m     54\u001b[0m     \u001b[0;32mif\u001b[0m \u001b[0mK\u001b[0m\u001b[0;34m.\u001b[0m\u001b[0mbackend\u001b[0m\u001b[0;34m(\u001b[0m\u001b[0;34m)\u001b[0m \u001b[0;34m==\u001b[0m \u001b[0;34m'theano'\u001b[0m\u001b[0;34m:\u001b[0m\u001b[0;34m\u001b[0m\u001b[0;34m\u001b[0m\u001b[0m\n",
      "\u001b[0;31mAttributeError\u001b[0m: 'tuple' object has no attribute 'lower'"
     ]
    }
   ],
   "source": [
    "model=Sequential()\n",
    "\n",
    "#Conv Layer 1\n",
    "model.add(Conv2D(filters = 96, \n",
    "                 kernel_size = (11,11), \n",
    "                 strides = (4,4), \n",
    "                 padding = 'valid',\n",
    "                 activation = 'relu', \n",
    "                 input_shape = (32,32,1)))\n",
    "\n",
    "#Pooling layer 1\n",
    "model.add(MaxPooling2D(pool_size = (3,3), strides = (2,2)))\n",
    "\n",
    "#Conv Layer 2\n",
    "model.add(Conv2D(filters = 256, \n",
    "                 kernel_size = (5,5),\n",
    "                 strides = (1,1),\n",
    "                 padding = (2,2),\n",
    "                 activation = 'relu'))\n",
    "\n",
    "#Pooling Layer 2\n",
    "model.add(MaxPooling2D(pool_size = (3,3), strides = (2,2)))\n",
    "          \n",
    "#Conv Layer 3\n",
    "model.add(Conv2D(filters = 384,\n",
    "                kernel_size = (3,3),\n",
    "                strides = (1,1),\n",
    "                padding = 'valid',\n",
    "                activation = 'relu'))\n",
    "          \n",
    "#Conv Layer 4\n",
    "model.add(Conv2D(filters = 384,\n",
    "                kernel_size = (3,3),\n",
    "                strides = (1,1),\n",
    "                padding = 'valid',\n",
    "                activation = 'relu'))\n",
    "          \n",
    "#Conv Layer 5 \n",
    "model.add(Conv2D(filters = 256,\n",
    "                kernel_size = (3,3),\n",
    "                strides = (1,1),\n",
    "                padding = (1,1),\n",
    "                activation = 'relu'))\n",
    "          \n",
    "#Pooling layer 3\n",
    "model.add(MaxPooling2D(pool_size = (3,3), strides = (2,2)))\n",
    "          \n",
    "#Flatten\n",
    "model.add(Flatten())\n",
    "#Layer 3\n",
    "          \n",
    "#Fully connected layer 1\n",
    "model.add(Dense(4096, input_shape(32,32,1),activation = 'relu'))\n",
    "\n",
    "#add dropout\n",
    "model.add(Dropout(0.4))\n",
    "          \n",
    "#add Batch Normalization\n",
    "model.add(BatchNormalization)\n",
    "          \n",
    "        \n",
    "#Fully connected layer 2\n",
    "model.add(Dense(4096, activation = 'relu'))\n",
    "\n",
    "#add dropout\n",
    "model.add(Dropout(0.4))\n",
    "          \n",
    "#add Batch Normalization\n",
    "model.add(BatchNormalization)\n",
    "          \n",
    "     \n",
    "#Fully connected layer 3\n",
    "model.add(Dense(4096, activation = 'relu'))\n",
    "\n",
    "#add dropout\n",
    "model.add(Dropout(0.4))\n",
    "          \n",
    "#add Batch Normalization\n",
    "model.add(BatchNormalization)\n",
    "          \n",
    "          \n",
    "#Layer 4\n",
    "#Fully connected layer 2\n",
    "model.add(Dense(units = 84, activation = 'relu'))\n",
    "\n",
    "#Layer 5\n",
    "#Output Layer\n",
    "model.add(Dense(units = 17, activation = 'softmax'))\n",
    "model.compile(optimizer = 'adam', loss = 'categorical_crossentropy', metrics = ['accuracy'])\n",
    "\n",
    "model.compile(loss=keras.losses.categorical_crossentropy,\n",
    "              optimizer=keras.optimizers.Adam(),\n",
    "              metrics=['accuracy'])\n",
    "\n"
   ]
  },
  {
   "cell_type": "code",
   "execution_count": 56,
   "metadata": {},
   "outputs": [
    {
     "name": "stdout",
     "output_type": "stream",
     "text": [
      "_________________________________________________________________\n",
      "Layer (type)                 Output Shape              Param #   \n",
      "=================================================================\n",
      "conv2d_7 (Conv2D)            (None, 28, 28, 6)         156       \n",
      "_________________________________________________________________\n",
      "max_pooling2d_7 (MaxPooling2 (None, 14, 14, 6)         0         \n",
      "_________________________________________________________________\n",
      "conv2d_8 (Conv2D)            (None, 10, 10, 16)        2416      \n",
      "_________________________________________________________________\n",
      "max_pooling2d_8 (MaxPooling2 (None, 5, 5, 16)          0         \n",
      "_________________________________________________________________\n",
      "flatten_4 (Flatten)          (None, 400)               0         \n",
      "_________________________________________________________________\n",
      "dense_10 (Dense)             (None, 120)               48120     \n",
      "_________________________________________________________________\n",
      "dense_11 (Dense)             (None, 84)                10164     \n",
      "_________________________________________________________________\n",
      "dense_12 (Dense)             (None, 10)                850       \n",
      "=================================================================\n",
      "Total params: 61,706\n",
      "Trainable params: 61,706\n",
      "Non-trainable params: 0\n",
      "_________________________________________________________________\n"
     ]
    }
   ],
   "source": [
    "model.summary()"
   ]
  },
  {
   "cell_type": "code",
   "execution_count": null,
   "metadata": {},
   "outputs": [
    {
     "name": "stdout",
     "output_type": "stream",
     "text": [
      "Train on 48000 samples, validate on 12000 samples\n",
      "Epoch 1/20\n",
      "10/10 [==============================] - 19s 2s/step - loss: 2.0567 - acc: 0.3901 - val_loss: 1.5980 - val_acc: 0.6063\n",
      "Epoch 2/20\n",
      "10/10 [==============================] - 18s 2s/step - loss: 1.1252 - acc: 0.7317 - val_loss: 0.6355 - val_acc: 0.8217\n",
      "Epoch 3/20\n",
      "10/10 [==============================] - 18s 2s/step - loss: 0.4853 - acc: 0.8571 - val_loss: 0.3521 - val_acc: 0.8970\n",
      "Epoch 4/20\n",
      "10/10 [==============================] - 18s 2s/step - loss: 0.3085 - acc: 0.9102 - val_loss: 0.2500 - val_acc: 0.9259\n",
      "Epoch 5/20\n",
      "10/10 [==============================] - 18s 2s/step - loss: 0.2230 - acc: 0.9343 - val_loss: 0.1888 - val_acc: 0.9421\n",
      "Epoch 6/20\n",
      "10/10 [==============================] - 19s 2s/step - loss: 0.1702 - acc: 0.9495 - val_loss: 0.1498 - val_acc: 0.9541\n",
      "Epoch 7/20\n",
      "10/10 [==============================] - 19s 2s/step - loss: 0.1357 - acc: 0.9595 - val_loss: 0.1226 - val_acc: 0.9621\n",
      "Epoch 8/20\n",
      "10/10 [==============================] - 19s 2s/step - loss: 0.1118 - acc: 0.9671 - val_loss: 0.1043 - val_acc: 0.9662\n",
      "Epoch 9/20\n",
      "10/10 [==============================] - 19s 2s/step - loss: 0.0951 - acc: 0.9721 - val_loss: 0.0917 - val_acc: 0.9703\n",
      "Epoch 10/20\n",
      "10/10 [==============================] - 19s 2s/step - loss: 0.0831 - acc: 0.9756 - val_loss: 0.0828 - val_acc: 0.9740\n",
      "Epoch 11/20\n",
      "10/10 [==============================] - 20s 2s/step - loss: 0.0741 - acc: 0.9783 - val_loss: 0.0763 - val_acc: 0.9753\n",
      "Epoch 12/20\n",
      "10/10 [==============================] - 19s 2s/step - loss: 0.0670 - acc: 0.9801 - val_loss: 0.0712 - val_acc: 0.9762\n",
      "Epoch 13/20\n",
      "10/10 [==============================] - 19s 2s/step - loss: 0.0613 - acc: 0.9816 - val_loss: 0.0670 - val_acc: 0.9783\n",
      "Epoch 14/20\n",
      "10/10 [==============================] - 19s 2s/step - loss: 0.0565 - acc: 0.9830 - val_loss: 0.0635 - val_acc: 0.9794\n",
      "Epoch 15/20\n",
      "10/10 [==============================] - 20s 2s/step - loss: 0.0523 - acc: 0.9844 - val_loss: 0.0605 - val_acc: 0.9807\n",
      "Epoch 16/20\n",
      "10/10 [==============================] - 22s 2s/step - loss: 0.0487 - acc: 0.9858 - val_loss: 0.0579 - val_acc: 0.9814\n",
      "Epoch 17/20\n",
      " 9/10 [==========================>...] - ETA: 1s - loss: 0.0455 - acc: 0.9868"
     ]
    }
   ],
   "source": [
    "hist = model.fit(x_train ,y_train, steps_per_epoch = 10, epochs = 20, validation_data=(x_val,y_val), validation_steps = 10)"
   ]
  },
  {
   "cell_type": "code",
   "execution_count": null,
   "metadata": {},
   "outputs": [],
   "source": [
    "score = model.evaluate(x_test, y_test, verbose= 1)\n",
    "print('Test loss:', score[0])\n",
    "print('Test accuracy:', score[1])"
   ]
  },
  {
   "cell_type": "code",
   "execution_count": 44,
   "metadata": {},
   "outputs": [
    {
     "data": {
      "image/png": "[encoded data removed]",
      "text/plain": [
       "<Figure size 432x288 with 1 Axes>"
      ]
     },
     "metadata": {
      "needs_background": "light"
     },
     "output_type": "display_data"
    },
    {
     "data": {
      "image/png": "[encoded data removed]",
      "text/plain": [
       "<Figure size 432x288 with 1 Axes>"
      ]
     },
     "metadata": {
      "needs_background": "light"
     },
     "output_type": "display_data"
    }
   ],
   "source": [
    "accuracy = hist.history['acc']\n",
    "val_accuracy = hist.history['val_acc']\n",
    "epochs = range(len(accuracy))\n",
    "loss = hist.history['loss']\n",
    "val_loss = hist.history['val_loss']\n",
    "plt.plot(epochs, accuracy, 'bo', label='Training accuracy')\n",
    "plt.plot(epochs, val_accuracy, 'b', label='Validation accuracy')\n",
    "plt.title('Training and validation accuracy')\n",
    "plt.legend()\n",
    "plt.figure()\n",
    "plt.plot(epochs, loss, 'bo', label='Training loss')\n",
    "plt.plot(epochs, val_loss, 'b', label='Validation loss')\n",
    "plt.title('Training and validation loss')\n",
    "plt.legend()\n",
    "plt.show()"
   ]
  },
  {
   "cell_type": "code",
   "execution_count": 45,
   "metadata": {},
   "outputs": [],
   "source": [
    "#get the predictions for the test data\n",
    "predicted_classes = model.predict_classes(x_test)\n",
    "\n",
    "#get the indices to be plotted\n",
    "\n",
    "correct = np.nonzero(predicted_classes==y_true)[0]\n",
    "incorrect = np.nonzero(predicted_classes!=y_true)[0]"
   ]
  },
  {
   "cell_type": "code",
   "execution_count": 46,
   "metadata": {},
   "outputs": [
    {
     "name": "stdout",
     "output_type": "stream",
     "text": [
      "              precision    recall  f1-score   support\n",
      "\n",
      "     Class 0       0.96      0.99      0.97       980\n",
      "     Class 1       0.98      0.99      0.98      1135\n",
      "     Class 2       0.95      0.96      0.95      1032\n",
      "     Class 3       0.95      0.96      0.95      1010\n",
      "     Class 4       0.95      0.95      0.95       982\n",
      "     Class 5       0.95      0.94      0.95       892\n",
      "     Class 6       0.97      0.97      0.97       958\n",
      "     Class 7       0.97      0.94      0.96      1028\n",
      "     Class 8       0.93      0.93      0.93       974\n",
      "     Class 9       0.95      0.93      0.94      1009\n",
      "\n",
      "   micro avg       0.96      0.96      0.96     10000\n",
      "   macro avg       0.96      0.96      0.96     10000\n",
      "weighted avg       0.96      0.96      0.96     10000\n",
      "\n"
     ]
    }
   ],
   "source": [
    "num_classes = 10\n",
    "from sklearn.metrics import classification_report\n",
    "target_names = [\"Class {}\".format(i) for i in range(num_classes)]\n",
    "print(classification_report(y_true, predicted_classes, target_names=target_names))"
   ]
  },
  {
   "cell_type": "code",
   "execution_count": 47,
   "metadata": {},
   "outputs": [
    {
     "data": {
      "image/png": "[encoded data removed]",
      "text/plain": [
       "<Figure size 432x288 with 9 Axes>"
      ]
     },
     "metadata": {
      "needs_background": "light"
     },
     "output_type": "display_data"
    }
   ],
   "source": [
    "for i, c in enumerate(correct[:9]):\n",
    "    plt.subplot(3,3,i+1)\n",
    "    plt.imshow(x_test[c].reshape(32,32), cmap='gray', interpolation='none')\n",
    "    plt.title(\"Predicted {}, Class {}\".format(predicted_classes[c], y_true[c]))\n",
    "    plt.tight_layout()"
   ]
  },
  {
   "cell_type": "code",
   "execution_count": 48,
   "metadata": {},
   "outputs": [
    {
     "data": {
      "image/png": "[encoded data removed]",
      "text/plain": [
       "<Figure size 432x288 with 9 Axes>"
      ]
     },
     "metadata": {
      "needs_background": "light"
     },
     "output_type": "display_data"
    }
   ],
   "source": [
    "for i, inc in enumerate(incorrect[:9]):\n",
    "    plt.subplot(3,3,i+1)\n",
    "    plt.imshow(x_test[inc].reshape(32,32), cmap='gray', interpolation='none')\n",
    "    plt.title(\"Predicted {}, Class {}\".format(predicted_classes[inc], y_true[inc]))\n",
    "    plt.tight_layout()"
   ]
  },
  {
   "cell_type": "code",
   "execution_count": null,
   "metadata": {},
   "outputs": [],
   "source": []
  },
  {
   "cell_type": "code",
   "execution_count": null,
   "metadata": {},
   "outputs": [],
   "source": []
  }
 ],
 "metadata": {
  "kernelspec": {
   "display_name": "Python 3",
   "language": "python",
   "name": "python3"
  },
  "language_info": {
   "codemirror_mode": {
    "name": "ipython",
    "version": 3
   },
   "file_extension": ".py",
   "mimetype": "text/x-python",
   "name": "python",
   "nbconvert_exporter": "python",
   "pygments_lexer": "ipython3",
   "version": "3.6.7"
  }
 },
 "nbformat": 4,
 "nbformat_minor": 2
}
